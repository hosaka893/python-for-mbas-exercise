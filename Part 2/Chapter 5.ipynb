{
 "cells": [
  {
   "cell_type": "markdown",
   "metadata": {},
   "source": [
    "# Chapter 5"
   ]
  },
  {
   "cell_type": "markdown",
   "metadata": {},
   "source": [
    "## Section 5.5"
   ]
  },
  {
   "cell_type": "markdown",
   "metadata": {},
   "source": [
    "### Section 5.5.1"
   ]
  },
  {
   "cell_type": "code",
   "execution_count": 1,
   "metadata": {},
   "outputs": [],
   "source": [
    "import pandas as pd"
   ]
  },
  {
   "cell_type": "code",
   "execution_count": 2,
   "metadata": {},
   "outputs": [],
   "source": [
    "students = (\n",
    "    {'FIRST_NAME': ['Daniel', 'Ben', 'Kavita', 'Linda', \n",
    "                    'Omar','Jane', 'Felicia', 'Rachel', \n",
    "                    'Bob'],\n",
    "    'LAST_NAME': ['Smith', 'Leibstrom', 'Kanabar', 'Thiel',\n",
    "                  'Reichel', 'OConner', 'Rao', 'Crock', \n",
    "                  'McDonald'],\n",
    "    'YEAR': [1, 1, 1, 4, 2, 2, 3, 1, 1],\n",
    "    'HOME_STATE': ['NY', 'NY', 'PA', 'CA', 'OK', 'HI', \n",
    "                   'NY','FL', 'FL'],\n",
    "    'AGE': [18, 19, 19, 22, 21, 19, 20, 17, 18],\n",
    "    'CALC_101_FINAL': [90, 80, None, 60, 70, None,None, \n",
    "                       None, 98],\n",
    "    'ENGLISH_101_FINAL': [80, None, None, 40, 50, None,\n",
    "                          None, 60, 65]} )\n",
    "df_students = pd.DataFrame(students)"
   ]
  },
  {
   "cell_type": "code",
   "execution_count": 3,
   "metadata": {},
   "outputs": [
    {
     "data": {
      "text/html": [
       "<div>\n",
       "<style scoped>\n",
       "    .dataframe tbody tr th:only-of-type {\n",
       "        vertical-align: middle;\n",
       "    }\n",
       "\n",
       "    .dataframe tbody tr th {\n",
       "        vertical-align: top;\n",
       "    }\n",
       "\n",
       "    .dataframe thead th {\n",
       "        text-align: right;\n",
       "    }\n",
       "</style>\n",
       "<table border=\"1\" class=\"dataframe\">\n",
       "  <thead>\n",
       "    <tr style=\"text-align: right;\">\n",
       "      <th></th>\n",
       "      <th>FIRST_NAME</th>\n",
       "      <th>LAST_NAME</th>\n",
       "      <th>YEAR</th>\n",
       "      <th>HOME_STATE</th>\n",
       "      <th>AGE</th>\n",
       "      <th>CALC_101_FINAL</th>\n",
       "      <th>ENGLISH_101_FINAL</th>\n",
       "    </tr>\n",
       "  </thead>\n",
       "  <tbody>\n",
       "    <tr>\n",
       "      <th>0</th>\n",
       "      <td>Daniel</td>\n",
       "      <td>Smith</td>\n",
       "      <td>1</td>\n",
       "      <td>NY</td>\n",
       "      <td>18</td>\n",
       "      <td>90.0</td>\n",
       "      <td>80.0</td>\n",
       "    </tr>\n",
       "    <tr>\n",
       "      <th>1</th>\n",
       "      <td>Ben</td>\n",
       "      <td>Leibstrom</td>\n",
       "      <td>1</td>\n",
       "      <td>NY</td>\n",
       "      <td>19</td>\n",
       "      <td>80.0</td>\n",
       "      <td>NaN</td>\n",
       "    </tr>\n",
       "    <tr>\n",
       "      <th>2</th>\n",
       "      <td>Kavita</td>\n",
       "      <td>Kanabar</td>\n",
       "      <td>1</td>\n",
       "      <td>PA</td>\n",
       "      <td>19</td>\n",
       "      <td>NaN</td>\n",
       "      <td>NaN</td>\n",
       "    </tr>\n",
       "    <tr>\n",
       "      <th>3</th>\n",
       "      <td>Linda</td>\n",
       "      <td>Thiel</td>\n",
       "      <td>4</td>\n",
       "      <td>CA</td>\n",
       "      <td>22</td>\n",
       "      <td>60.0</td>\n",
       "      <td>40.0</td>\n",
       "    </tr>\n",
       "    <tr>\n",
       "      <th>4</th>\n",
       "      <td>Omar</td>\n",
       "      <td>Reichel</td>\n",
       "      <td>2</td>\n",
       "      <td>OK</td>\n",
       "      <td>21</td>\n",
       "      <td>70.0</td>\n",
       "      <td>50.0</td>\n",
       "    </tr>\n",
       "    <tr>\n",
       "      <th>5</th>\n",
       "      <td>Jane</td>\n",
       "      <td>OConner</td>\n",
       "      <td>2</td>\n",
       "      <td>HI</td>\n",
       "      <td>19</td>\n",
       "      <td>NaN</td>\n",
       "      <td>NaN</td>\n",
       "    </tr>\n",
       "    <tr>\n",
       "      <th>6</th>\n",
       "      <td>Felicia</td>\n",
       "      <td>Rao</td>\n",
       "      <td>3</td>\n",
       "      <td>NY</td>\n",
       "      <td>20</td>\n",
       "      <td>NaN</td>\n",
       "      <td>NaN</td>\n",
       "    </tr>\n",
       "    <tr>\n",
       "      <th>7</th>\n",
       "      <td>Rachel</td>\n",
       "      <td>Crock</td>\n",
       "      <td>1</td>\n",
       "      <td>FL</td>\n",
       "      <td>17</td>\n",
       "      <td>NaN</td>\n",
       "      <td>60.0</td>\n",
       "    </tr>\n",
       "    <tr>\n",
       "      <th>8</th>\n",
       "      <td>Bob</td>\n",
       "      <td>McDonald</td>\n",
       "      <td>1</td>\n",
       "      <td>FL</td>\n",
       "      <td>18</td>\n",
       "      <td>98.0</td>\n",
       "      <td>65.0</td>\n",
       "    </tr>\n",
       "  </tbody>\n",
       "</table>\n",
       "</div>"
      ],
      "text/plain": [
       "  FIRST_NAME  LAST_NAME  YEAR HOME_STATE  AGE  CALC_101_FINAL  \\\n",
       "0     Daniel      Smith     1         NY   18            90.0   \n",
       "1        Ben  Leibstrom     1         NY   19            80.0   \n",
       "2     Kavita    Kanabar     1         PA   19             NaN   \n",
       "3      Linda      Thiel     4         CA   22            60.0   \n",
       "4       Omar    Reichel     2         OK   21            70.0   \n",
       "5       Jane    OConner     2         HI   19             NaN   \n",
       "6    Felicia        Rao     3         NY   20             NaN   \n",
       "7     Rachel      Crock     1         FL   17             NaN   \n",
       "8        Bob   McDonald     1         FL   18            98.0   \n",
       "\n",
       "   ENGLISH_101_FINAL  \n",
       "0               80.0  \n",
       "1                NaN  \n",
       "2                NaN  \n",
       "3               40.0  \n",
       "4               50.0  \n",
       "5                NaN  \n",
       "6                NaN  \n",
       "7               60.0  \n",
       "8               65.0  "
      ]
     },
     "execution_count": 3,
     "metadata": {},
     "output_type": "execute_result"
    }
   ],
   "source": [
    "df_students"
   ]
  },
  {
   "cell_type": "markdown",
   "metadata": {},
   "source": [
    "### Section 5.5.2"
   ]
  },
  {
   "cell_type": "code",
   "execution_count": 4,
   "metadata": {},
   "outputs": [
    {
     "data": {
      "text/plain": [
       "0     Daniel\n",
       "1        Ben\n",
       "2     Kavita\n",
       "3      Linda\n",
       "4       Omar\n",
       "5       Jane\n",
       "6    Felicia\n",
       "7     Rachel\n",
       "8        Bob\n",
       "Name: FIRST_NAME, dtype: object"
      ]
     },
     "execution_count": 4,
     "metadata": {},
     "output_type": "execute_result"
    }
   ],
   "source": [
    "df_students['FIRST_NAME']"
   ]
  },
  {
   "cell_type": "code",
   "execution_count": 5,
   "metadata": {},
   "outputs": [
    {
     "data": {
      "text/plain": [
       "0     Daniel\n",
       "1        Ben\n",
       "2     Kavita\n",
       "3      Linda\n",
       "4       Omar\n",
       "5       Jane\n",
       "6    Felicia\n",
       "7     Rachel\n",
       "8        Bob\n",
       "Name: FIRST_NAME, dtype: object"
      ]
     },
     "execution_count": 5,
     "metadata": {},
     "output_type": "execute_result"
    }
   ],
   "source": [
    "df_students.FIRST_NAME"
   ]
  },
  {
   "cell_type": "code",
   "execution_count": 6,
   "metadata": {},
   "outputs": [
    {
     "data": {
      "text/plain": [
       "0    NY\n",
       "1    NY\n",
       "2    PA\n",
       "3    CA\n",
       "4    OK\n",
       "5    HI\n",
       "6    NY\n",
       "7    FL\n",
       "8    FL\n",
       "Name: HOME_STATE, dtype: object"
      ]
     },
     "execution_count": 6,
     "metadata": {},
     "output_type": "execute_result"
    }
   ],
   "source": [
    "i = 'HOME_STATE'\n",
    "df_students[i]"
   ]
  },
  {
   "cell_type": "code",
   "execution_count": 7,
   "metadata": {},
   "outputs": [
    {
     "data": {
      "text/html": [
       "<div>\n",
       "<style scoped>\n",
       "    .dataframe tbody tr th:only-of-type {\n",
       "        vertical-align: middle;\n",
       "    }\n",
       "\n",
       "    .dataframe tbody tr th {\n",
       "        vertical-align: top;\n",
       "    }\n",
       "\n",
       "    .dataframe thead th {\n",
       "        text-align: right;\n",
       "    }\n",
       "</style>\n",
       "<table border=\"1\" class=\"dataframe\">\n",
       "  <thead>\n",
       "    <tr style=\"text-align: right;\">\n",
       "      <th></th>\n",
       "      <th>FIRST_NAME</th>\n",
       "    </tr>\n",
       "  </thead>\n",
       "  <tbody>\n",
       "    <tr>\n",
       "      <th>0</th>\n",
       "      <td>Daniel</td>\n",
       "    </tr>\n",
       "    <tr>\n",
       "      <th>1</th>\n",
       "      <td>Ben</td>\n",
       "    </tr>\n",
       "    <tr>\n",
       "      <th>2</th>\n",
       "      <td>Kavita</td>\n",
       "    </tr>\n",
       "    <tr>\n",
       "      <th>3</th>\n",
       "      <td>Linda</td>\n",
       "    </tr>\n",
       "    <tr>\n",
       "      <th>4</th>\n",
       "      <td>Omar</td>\n",
       "    </tr>\n",
       "    <tr>\n",
       "      <th>5</th>\n",
       "      <td>Jane</td>\n",
       "    </tr>\n",
       "    <tr>\n",
       "      <th>6</th>\n",
       "      <td>Felicia</td>\n",
       "    </tr>\n",
       "    <tr>\n",
       "      <th>7</th>\n",
       "      <td>Rachel</td>\n",
       "    </tr>\n",
       "    <tr>\n",
       "      <th>8</th>\n",
       "      <td>Bob</td>\n",
       "    </tr>\n",
       "  </tbody>\n",
       "</table>\n",
       "</div>"
      ],
      "text/plain": [
       "  FIRST_NAME\n",
       "0     Daniel\n",
       "1        Ben\n",
       "2     Kavita\n",
       "3      Linda\n",
       "4       Omar\n",
       "5       Jane\n",
       "6    Felicia\n",
       "7     Rachel\n",
       "8        Bob"
      ]
     },
     "execution_count": 7,
     "metadata": {},
     "output_type": "execute_result"
    }
   ],
   "source": [
    "df_students[['FIRST_NAME']]"
   ]
  },
  {
   "cell_type": "code",
   "execution_count": 8,
   "metadata": {},
   "outputs": [
    {
     "data": {
      "text/html": [
       "<div>\n",
       "<style scoped>\n",
       "    .dataframe tbody tr th:only-of-type {\n",
       "        vertical-align: middle;\n",
       "    }\n",
       "\n",
       "    .dataframe tbody tr th {\n",
       "        vertical-align: top;\n",
       "    }\n",
       "\n",
       "    .dataframe thead th {\n",
       "        text-align: right;\n",
       "    }\n",
       "</style>\n",
       "<table border=\"1\" class=\"dataframe\">\n",
       "  <thead>\n",
       "    <tr style=\"text-align: right;\">\n",
       "      <th></th>\n",
       "      <th>FIRST_NAME</th>\n",
       "      <th>LAST_NAME</th>\n",
       "    </tr>\n",
       "  </thead>\n",
       "  <tbody>\n",
       "    <tr>\n",
       "      <th>0</th>\n",
       "      <td>Daniel</td>\n",
       "      <td>Smith</td>\n",
       "    </tr>\n",
       "    <tr>\n",
       "      <th>1</th>\n",
       "      <td>Ben</td>\n",
       "      <td>Leibstrom</td>\n",
       "    </tr>\n",
       "    <tr>\n",
       "      <th>2</th>\n",
       "      <td>Kavita</td>\n",
       "      <td>Kanabar</td>\n",
       "    </tr>\n",
       "    <tr>\n",
       "      <th>3</th>\n",
       "      <td>Linda</td>\n",
       "      <td>Thiel</td>\n",
       "    </tr>\n",
       "    <tr>\n",
       "      <th>4</th>\n",
       "      <td>Omar</td>\n",
       "      <td>Reichel</td>\n",
       "    </tr>\n",
       "    <tr>\n",
       "      <th>5</th>\n",
       "      <td>Jane</td>\n",
       "      <td>OConner</td>\n",
       "    </tr>\n",
       "    <tr>\n",
       "      <th>6</th>\n",
       "      <td>Felicia</td>\n",
       "      <td>Rao</td>\n",
       "    </tr>\n",
       "    <tr>\n",
       "      <th>7</th>\n",
       "      <td>Rachel</td>\n",
       "      <td>Crock</td>\n",
       "    </tr>\n",
       "    <tr>\n",
       "      <th>8</th>\n",
       "      <td>Bob</td>\n",
       "      <td>McDonald</td>\n",
       "    </tr>\n",
       "  </tbody>\n",
       "</table>\n",
       "</div>"
      ],
      "text/plain": [
       "  FIRST_NAME  LAST_NAME\n",
       "0     Daniel      Smith\n",
       "1        Ben  Leibstrom\n",
       "2     Kavita    Kanabar\n",
       "3      Linda      Thiel\n",
       "4       Omar    Reichel\n",
       "5       Jane    OConner\n",
       "6    Felicia        Rao\n",
       "7     Rachel      Crock\n",
       "8        Bob   McDonald"
      ]
     },
     "execution_count": 8,
     "metadata": {},
     "output_type": "execute_result"
    }
   ],
   "source": [
    "df_students[['FIRST_NAME', 'LAST_NAME']]"
   ]
  },
  {
   "cell_type": "code",
   "execution_count": 9,
   "metadata": {},
   "outputs": [
    {
     "ename": "KeyError",
     "evalue": "('FIRST_NAME', 'LAST_NAME')",
     "output_type": "error",
     "traceback": [
      "\u001b[0;31m---------------------------------------------------------------------------\u001b[0m",
      "\u001b[0;31mKeyError\u001b[0m                                  Traceback (most recent call last)",
      "File \u001b[0;32m~/Development/python/python-for-mbas-exercise/.venv/lib/python3.10/site-packages/pandas/core/indexes/base.py:3802\u001b[0m, in \u001b[0;36mIndex.get_loc\u001b[0;34m(self, key, method, tolerance)\u001b[0m\n\u001b[1;32m   3801\u001b[0m \u001b[38;5;28;01mtry\u001b[39;00m:\n\u001b[0;32m-> 3802\u001b[0m     \u001b[38;5;28;01mreturn\u001b[39;00m \u001b[38;5;28;43mself\u001b[39;49m\u001b[38;5;241;43m.\u001b[39;49m\u001b[43m_engine\u001b[49m\u001b[38;5;241;43m.\u001b[39;49m\u001b[43mget_loc\u001b[49m\u001b[43m(\u001b[49m\u001b[43mcasted_key\u001b[49m\u001b[43m)\u001b[49m\n\u001b[1;32m   3803\u001b[0m \u001b[38;5;28;01mexcept\u001b[39;00m \u001b[38;5;167;01mKeyError\u001b[39;00m \u001b[38;5;28;01mas\u001b[39;00m err:\n",
      "File \u001b[0;32m~/Development/python/python-for-mbas-exercise/.venv/lib/python3.10/site-packages/pandas/_libs/index.pyx:138\u001b[0m, in \u001b[0;36mpandas._libs.index.IndexEngine.get_loc\u001b[0;34m()\u001b[0m\n",
      "File \u001b[0;32m~/Development/python/python-for-mbas-exercise/.venv/lib/python3.10/site-packages/pandas/_libs/index.pyx:165\u001b[0m, in \u001b[0;36mpandas._libs.index.IndexEngine.get_loc\u001b[0;34m()\u001b[0m\n",
      "File \u001b[0;32mpandas/_libs/hashtable_class_helper.pxi:5745\u001b[0m, in \u001b[0;36mpandas._libs.hashtable.PyObjectHashTable.get_item\u001b[0;34m()\u001b[0m\n",
      "File \u001b[0;32mpandas/_libs/hashtable_class_helper.pxi:5753\u001b[0m, in \u001b[0;36mpandas._libs.hashtable.PyObjectHashTable.get_item\u001b[0;34m()\u001b[0m\n",
      "\u001b[0;31mKeyError\u001b[0m: ('FIRST_NAME', 'LAST_NAME')",
      "\nThe above exception was the direct cause of the following exception:\n",
      "\u001b[0;31mKeyError\u001b[0m                                  Traceback (most recent call last)",
      "Cell \u001b[0;32mIn[9], line 1\u001b[0m\n\u001b[0;32m----> 1\u001b[0m \u001b[43mdf_students\u001b[49m\u001b[43m[\u001b[49m\u001b[38;5;124;43m'\u001b[39;49m\u001b[38;5;124;43mFIRST_NAME\u001b[39;49m\u001b[38;5;124;43m'\u001b[39;49m\u001b[43m,\u001b[49m\u001b[43m \u001b[49m\u001b[38;5;124;43m'\u001b[39;49m\u001b[38;5;124;43mLAST_NAME\u001b[39;49m\u001b[38;5;124;43m'\u001b[39;49m\u001b[43m]\u001b[49m\n",
      "File \u001b[0;32m~/Development/python/python-for-mbas-exercise/.venv/lib/python3.10/site-packages/pandas/core/frame.py:3807\u001b[0m, in \u001b[0;36mDataFrame.__getitem__\u001b[0;34m(self, key)\u001b[0m\n\u001b[1;32m   3805\u001b[0m \u001b[38;5;28;01mif\u001b[39;00m \u001b[38;5;28mself\u001b[39m\u001b[38;5;241m.\u001b[39mcolumns\u001b[38;5;241m.\u001b[39mnlevels \u001b[38;5;241m>\u001b[39m \u001b[38;5;241m1\u001b[39m:\n\u001b[1;32m   3806\u001b[0m     \u001b[38;5;28;01mreturn\u001b[39;00m \u001b[38;5;28mself\u001b[39m\u001b[38;5;241m.\u001b[39m_getitem_multilevel(key)\n\u001b[0;32m-> 3807\u001b[0m indexer \u001b[38;5;241m=\u001b[39m \u001b[38;5;28;43mself\u001b[39;49m\u001b[38;5;241;43m.\u001b[39;49m\u001b[43mcolumns\u001b[49m\u001b[38;5;241;43m.\u001b[39;49m\u001b[43mget_loc\u001b[49m\u001b[43m(\u001b[49m\u001b[43mkey\u001b[49m\u001b[43m)\u001b[49m\n\u001b[1;32m   3808\u001b[0m \u001b[38;5;28;01mif\u001b[39;00m is_integer(indexer):\n\u001b[1;32m   3809\u001b[0m     indexer \u001b[38;5;241m=\u001b[39m [indexer]\n",
      "File \u001b[0;32m~/Development/python/python-for-mbas-exercise/.venv/lib/python3.10/site-packages/pandas/core/indexes/base.py:3804\u001b[0m, in \u001b[0;36mIndex.get_loc\u001b[0;34m(self, key, method, tolerance)\u001b[0m\n\u001b[1;32m   3802\u001b[0m     \u001b[38;5;28;01mreturn\u001b[39;00m \u001b[38;5;28mself\u001b[39m\u001b[38;5;241m.\u001b[39m_engine\u001b[38;5;241m.\u001b[39mget_loc(casted_key)\n\u001b[1;32m   3803\u001b[0m \u001b[38;5;28;01mexcept\u001b[39;00m \u001b[38;5;167;01mKeyError\u001b[39;00m \u001b[38;5;28;01mas\u001b[39;00m err:\n\u001b[0;32m-> 3804\u001b[0m     \u001b[38;5;28;01mraise\u001b[39;00m \u001b[38;5;167;01mKeyError\u001b[39;00m(key) \u001b[38;5;28;01mfrom\u001b[39;00m \u001b[38;5;21;01merr\u001b[39;00m\n\u001b[1;32m   3805\u001b[0m \u001b[38;5;28;01mexcept\u001b[39;00m \u001b[38;5;167;01mTypeError\u001b[39;00m:\n\u001b[1;32m   3806\u001b[0m     \u001b[38;5;66;03m# If we have a listlike key, _check_indexing_error will raise\u001b[39;00m\n\u001b[1;32m   3807\u001b[0m     \u001b[38;5;66;03m#  InvalidIndexError. Otherwise we fall through and re-raise\u001b[39;00m\n\u001b[1;32m   3808\u001b[0m     \u001b[38;5;66;03m#  the TypeError.\u001b[39;00m\n\u001b[1;32m   3809\u001b[0m     \u001b[38;5;28mself\u001b[39m\u001b[38;5;241m.\u001b[39m_check_indexing_error(key)\n",
      "\u001b[0;31mKeyError\u001b[0m: ('FIRST_NAME', 'LAST_NAME')"
     ]
    }
   ],
   "source": [
    "df_students['FIRST_NAME', 'LAST_NAME']"
   ]
  },
  {
   "cell_type": "markdown",
   "metadata": {},
   "source": [
    "### Section 5.5.3"
   ]
  },
  {
   "cell_type": "code",
   "execution_count": 10,
   "metadata": {},
   "outputs": [],
   "source": [
    "df_students.columns = ['FIRST_NAME', 'LAST_NAME', 'YEAR',\n",
    "                         'HOME_STATE', 'AGE', 'CALC_101_FINAL',\n",
    "                         'ENGLISH_101_FINAL_SCORE']"
   ]
  },
  {
   "cell_type": "code",
   "execution_count": 11,
   "metadata": {},
   "outputs": [
    {
     "data": {
      "text/html": [
       "<div>\n",
       "<style scoped>\n",
       "    .dataframe tbody tr th:only-of-type {\n",
       "        vertical-align: middle;\n",
       "    }\n",
       "\n",
       "    .dataframe tbody tr th {\n",
       "        vertical-align: top;\n",
       "    }\n",
       "\n",
       "    .dataframe thead th {\n",
       "        text-align: right;\n",
       "    }\n",
       "</style>\n",
       "<table border=\"1\" class=\"dataframe\">\n",
       "  <thead>\n",
       "    <tr style=\"text-align: right;\">\n",
       "      <th></th>\n",
       "      <th>FIRST_NAME</th>\n",
       "      <th>LAST_NAME</th>\n",
       "      <th>YEAR</th>\n",
       "      <th>HOME_STATE</th>\n",
       "      <th>AGE</th>\n",
       "      <th>CALC_101_FINAL</th>\n",
       "      <th>ENGLISH_101_FINAL_SCORE</th>\n",
       "    </tr>\n",
       "  </thead>\n",
       "  <tbody>\n",
       "    <tr>\n",
       "      <th>0</th>\n",
       "      <td>Daniel</td>\n",
       "      <td>Smith</td>\n",
       "      <td>1</td>\n",
       "      <td>NY</td>\n",
       "      <td>18</td>\n",
       "      <td>90.0</td>\n",
       "      <td>80.0</td>\n",
       "    </tr>\n",
       "    <tr>\n",
       "      <th>1</th>\n",
       "      <td>Ben</td>\n",
       "      <td>Leibstrom</td>\n",
       "      <td>1</td>\n",
       "      <td>NY</td>\n",
       "      <td>19</td>\n",
       "      <td>80.0</td>\n",
       "      <td>NaN</td>\n",
       "    </tr>\n",
       "    <tr>\n",
       "      <th>2</th>\n",
       "      <td>Kavita</td>\n",
       "      <td>Kanabar</td>\n",
       "      <td>1</td>\n",
       "      <td>PA</td>\n",
       "      <td>19</td>\n",
       "      <td>NaN</td>\n",
       "      <td>NaN</td>\n",
       "    </tr>\n",
       "    <tr>\n",
       "      <th>3</th>\n",
       "      <td>Linda</td>\n",
       "      <td>Thiel</td>\n",
       "      <td>4</td>\n",
       "      <td>CA</td>\n",
       "      <td>22</td>\n",
       "      <td>60.0</td>\n",
       "      <td>40.0</td>\n",
       "    </tr>\n",
       "    <tr>\n",
       "      <th>4</th>\n",
       "      <td>Omar</td>\n",
       "      <td>Reichel</td>\n",
       "      <td>2</td>\n",
       "      <td>OK</td>\n",
       "      <td>21</td>\n",
       "      <td>70.0</td>\n",
       "      <td>50.0</td>\n",
       "    </tr>\n",
       "    <tr>\n",
       "      <th>5</th>\n",
       "      <td>Jane</td>\n",
       "      <td>OConner</td>\n",
       "      <td>2</td>\n",
       "      <td>HI</td>\n",
       "      <td>19</td>\n",
       "      <td>NaN</td>\n",
       "      <td>NaN</td>\n",
       "    </tr>\n",
       "    <tr>\n",
       "      <th>6</th>\n",
       "      <td>Felicia</td>\n",
       "      <td>Rao</td>\n",
       "      <td>3</td>\n",
       "      <td>NY</td>\n",
       "      <td>20</td>\n",
       "      <td>NaN</td>\n",
       "      <td>NaN</td>\n",
       "    </tr>\n",
       "    <tr>\n",
       "      <th>7</th>\n",
       "      <td>Rachel</td>\n",
       "      <td>Crock</td>\n",
       "      <td>1</td>\n",
       "      <td>FL</td>\n",
       "      <td>17</td>\n",
       "      <td>NaN</td>\n",
       "      <td>60.0</td>\n",
       "    </tr>\n",
       "    <tr>\n",
       "      <th>8</th>\n",
       "      <td>Bob</td>\n",
       "      <td>McDonald</td>\n",
       "      <td>1</td>\n",
       "      <td>FL</td>\n",
       "      <td>18</td>\n",
       "      <td>98.0</td>\n",
       "      <td>65.0</td>\n",
       "    </tr>\n",
       "  </tbody>\n",
       "</table>\n",
       "</div>"
      ],
      "text/plain": [
       "  FIRST_NAME  LAST_NAME  YEAR HOME_STATE  AGE  CALC_101_FINAL  \\\n",
       "0     Daniel      Smith     1         NY   18            90.0   \n",
       "1        Ben  Leibstrom     1         NY   19            80.0   \n",
       "2     Kavita    Kanabar     1         PA   19             NaN   \n",
       "3      Linda      Thiel     4         CA   22            60.0   \n",
       "4       Omar    Reichel     2         OK   21            70.0   \n",
       "5       Jane    OConner     2         HI   19             NaN   \n",
       "6    Felicia        Rao     3         NY   20             NaN   \n",
       "7     Rachel      Crock     1         FL   17             NaN   \n",
       "8        Bob   McDonald     1         FL   18            98.0   \n",
       "\n",
       "   ENGLISH_101_FINAL_SCORE  \n",
       "0                     80.0  \n",
       "1                      NaN  \n",
       "2                      NaN  \n",
       "3                     40.0  \n",
       "4                     50.0  \n",
       "5                      NaN  \n",
       "6                      NaN  \n",
       "7                     60.0  \n",
       "8                     65.0  "
      ]
     },
     "execution_count": 11,
     "metadata": {},
     "output_type": "execute_result"
    }
   ],
   "source": [
    "df_students"
   ]
  },
  {
   "cell_type": "code",
   "execution_count": 12,
   "metadata": {},
   "outputs": [],
   "source": [
    "df_students.index = [1,2,3,4,5,6,7,8,9]"
   ]
  },
  {
   "cell_type": "code",
   "execution_count": 13,
   "metadata": {},
   "outputs": [
    {
     "data": {
      "text/html": [
       "<div>\n",
       "<style scoped>\n",
       "    .dataframe tbody tr th:only-of-type {\n",
       "        vertical-align: middle;\n",
       "    }\n",
       "\n",
       "    .dataframe tbody tr th {\n",
       "        vertical-align: top;\n",
       "    }\n",
       "\n",
       "    .dataframe thead th {\n",
       "        text-align: right;\n",
       "    }\n",
       "</style>\n",
       "<table border=\"1\" class=\"dataframe\">\n",
       "  <thead>\n",
       "    <tr style=\"text-align: right;\">\n",
       "      <th></th>\n",
       "      <th>FIRST_NAME</th>\n",
       "      <th>LAST_NAME</th>\n",
       "      <th>YEAR</th>\n",
       "      <th>HOME_STATE</th>\n",
       "      <th>AGE</th>\n",
       "      <th>CALC_101_FINAL</th>\n",
       "      <th>ENGLISH_101_FINAL_SCORE</th>\n",
       "    </tr>\n",
       "  </thead>\n",
       "  <tbody>\n",
       "    <tr>\n",
       "      <th>1</th>\n",
       "      <td>Daniel</td>\n",
       "      <td>Smith</td>\n",
       "      <td>1</td>\n",
       "      <td>NY</td>\n",
       "      <td>18</td>\n",
       "      <td>90.0</td>\n",
       "      <td>80.0</td>\n",
       "    </tr>\n",
       "    <tr>\n",
       "      <th>2</th>\n",
       "      <td>Ben</td>\n",
       "      <td>Leibstrom</td>\n",
       "      <td>1</td>\n",
       "      <td>NY</td>\n",
       "      <td>19</td>\n",
       "      <td>80.0</td>\n",
       "      <td>NaN</td>\n",
       "    </tr>\n",
       "    <tr>\n",
       "      <th>3</th>\n",
       "      <td>Kavita</td>\n",
       "      <td>Kanabar</td>\n",
       "      <td>1</td>\n",
       "      <td>PA</td>\n",
       "      <td>19</td>\n",
       "      <td>NaN</td>\n",
       "      <td>NaN</td>\n",
       "    </tr>\n",
       "    <tr>\n",
       "      <th>4</th>\n",
       "      <td>Linda</td>\n",
       "      <td>Thiel</td>\n",
       "      <td>4</td>\n",
       "      <td>CA</td>\n",
       "      <td>22</td>\n",
       "      <td>60.0</td>\n",
       "      <td>40.0</td>\n",
       "    </tr>\n",
       "    <tr>\n",
       "      <th>5</th>\n",
       "      <td>Omar</td>\n",
       "      <td>Reichel</td>\n",
       "      <td>2</td>\n",
       "      <td>OK</td>\n",
       "      <td>21</td>\n",
       "      <td>70.0</td>\n",
       "      <td>50.0</td>\n",
       "    </tr>\n",
       "    <tr>\n",
       "      <th>6</th>\n",
       "      <td>Jane</td>\n",
       "      <td>OConner</td>\n",
       "      <td>2</td>\n",
       "      <td>HI</td>\n",
       "      <td>19</td>\n",
       "      <td>NaN</td>\n",
       "      <td>NaN</td>\n",
       "    </tr>\n",
       "    <tr>\n",
       "      <th>7</th>\n",
       "      <td>Felicia</td>\n",
       "      <td>Rao</td>\n",
       "      <td>3</td>\n",
       "      <td>NY</td>\n",
       "      <td>20</td>\n",
       "      <td>NaN</td>\n",
       "      <td>NaN</td>\n",
       "    </tr>\n",
       "    <tr>\n",
       "      <th>8</th>\n",
       "      <td>Rachel</td>\n",
       "      <td>Crock</td>\n",
       "      <td>1</td>\n",
       "      <td>FL</td>\n",
       "      <td>17</td>\n",
       "      <td>NaN</td>\n",
       "      <td>60.0</td>\n",
       "    </tr>\n",
       "    <tr>\n",
       "      <th>9</th>\n",
       "      <td>Bob</td>\n",
       "      <td>McDonald</td>\n",
       "      <td>1</td>\n",
       "      <td>FL</td>\n",
       "      <td>18</td>\n",
       "      <td>98.0</td>\n",
       "      <td>65.0</td>\n",
       "    </tr>\n",
       "  </tbody>\n",
       "</table>\n",
       "</div>"
      ],
      "text/plain": [
       "  FIRST_NAME  LAST_NAME  YEAR HOME_STATE  AGE  CALC_101_FINAL  \\\n",
       "1     Daniel      Smith     1         NY   18            90.0   \n",
       "2        Ben  Leibstrom     1         NY   19            80.0   \n",
       "3     Kavita    Kanabar     1         PA   19             NaN   \n",
       "4      Linda      Thiel     4         CA   22            60.0   \n",
       "5       Omar    Reichel     2         OK   21            70.0   \n",
       "6       Jane    OConner     2         HI   19             NaN   \n",
       "7    Felicia        Rao     3         NY   20             NaN   \n",
       "8     Rachel      Crock     1         FL   17             NaN   \n",
       "9        Bob   McDonald     1         FL   18            98.0   \n",
       "\n",
       "   ENGLISH_101_FINAL_SCORE  \n",
       "1                     80.0  \n",
       "2                      NaN  \n",
       "3                      NaN  \n",
       "4                     40.0  \n",
       "5                     50.0  \n",
       "6                      NaN  \n",
       "7                      NaN  \n",
       "8                     60.0  \n",
       "9                     65.0  "
      ]
     },
     "execution_count": 13,
     "metadata": {},
     "output_type": "execute_result"
    }
   ],
   "source": [
    "df_students"
   ]
  },
  {
   "cell_type": "code",
   "execution_count": 14,
   "metadata": {},
   "outputs": [
    {
     "data": {
      "text/html": [
       "<div>\n",
       "<style scoped>\n",
       "    .dataframe tbody tr th:only-of-type {\n",
       "        vertical-align: middle;\n",
       "    }\n",
       "\n",
       "    .dataframe tbody tr th {\n",
       "        vertical-align: top;\n",
       "    }\n",
       "\n",
       "    .dataframe thead th {\n",
       "        text-align: right;\n",
       "    }\n",
       "</style>\n",
       "<table border=\"1\" class=\"dataframe\">\n",
       "  <thead>\n",
       "    <tr style=\"text-align: right;\">\n",
       "      <th></th>\n",
       "      <th>FIRST_NAME</th>\n",
       "      <th>LAST_NAME</th>\n",
       "      <th>YEAR</th>\n",
       "      <th>HOME_STATE</th>\n",
       "      <th>AGE</th>\n",
       "      <th>CALC_101_FINAL</th>\n",
       "      <th>ENGLISH_101_FINAL</th>\n",
       "    </tr>\n",
       "  </thead>\n",
       "  <tbody>\n",
       "    <tr>\n",
       "      <th>1</th>\n",
       "      <td>Daniel</td>\n",
       "      <td>Smith</td>\n",
       "      <td>1</td>\n",
       "      <td>NY</td>\n",
       "      <td>18</td>\n",
       "      <td>90.0</td>\n",
       "      <td>80.0</td>\n",
       "    </tr>\n",
       "    <tr>\n",
       "      <th>2</th>\n",
       "      <td>Ben</td>\n",
       "      <td>Leibstrom</td>\n",
       "      <td>1</td>\n",
       "      <td>NY</td>\n",
       "      <td>19</td>\n",
       "      <td>80.0</td>\n",
       "      <td>NaN</td>\n",
       "    </tr>\n",
       "    <tr>\n",
       "      <th>3</th>\n",
       "      <td>Kavita</td>\n",
       "      <td>Kanabar</td>\n",
       "      <td>1</td>\n",
       "      <td>PA</td>\n",
       "      <td>19</td>\n",
       "      <td>NaN</td>\n",
       "      <td>NaN</td>\n",
       "    </tr>\n",
       "    <tr>\n",
       "      <th>4</th>\n",
       "      <td>Linda</td>\n",
       "      <td>Thiel</td>\n",
       "      <td>4</td>\n",
       "      <td>CA</td>\n",
       "      <td>22</td>\n",
       "      <td>60.0</td>\n",
       "      <td>40.0</td>\n",
       "    </tr>\n",
       "    <tr>\n",
       "      <th>5</th>\n",
       "      <td>Omar</td>\n",
       "      <td>Reichel</td>\n",
       "      <td>2</td>\n",
       "      <td>OK</td>\n",
       "      <td>21</td>\n",
       "      <td>70.0</td>\n",
       "      <td>50.0</td>\n",
       "    </tr>\n",
       "    <tr>\n",
       "      <th>6</th>\n",
       "      <td>Jane</td>\n",
       "      <td>OConner</td>\n",
       "      <td>2</td>\n",
       "      <td>HI</td>\n",
       "      <td>19</td>\n",
       "      <td>NaN</td>\n",
       "      <td>NaN</td>\n",
       "    </tr>\n",
       "    <tr>\n",
       "      <th>7</th>\n",
       "      <td>Felicia</td>\n",
       "      <td>Rao</td>\n",
       "      <td>3</td>\n",
       "      <td>NY</td>\n",
       "      <td>20</td>\n",
       "      <td>NaN</td>\n",
       "      <td>NaN</td>\n",
       "    </tr>\n",
       "    <tr>\n",
       "      <th>8</th>\n",
       "      <td>Rachel</td>\n",
       "      <td>Crock</td>\n",
       "      <td>1</td>\n",
       "      <td>FL</td>\n",
       "      <td>17</td>\n",
       "      <td>NaN</td>\n",
       "      <td>60.0</td>\n",
       "    </tr>\n",
       "    <tr>\n",
       "      <th>9</th>\n",
       "      <td>Bob</td>\n",
       "      <td>McDonald</td>\n",
       "      <td>1</td>\n",
       "      <td>FL</td>\n",
       "      <td>18</td>\n",
       "      <td>98.0</td>\n",
       "      <td>65.0</td>\n",
       "    </tr>\n",
       "  </tbody>\n",
       "</table>\n",
       "</div>"
      ],
      "text/plain": [
       "  FIRST_NAME  LAST_NAME  YEAR HOME_STATE  AGE  CALC_101_FINAL  \\\n",
       "1     Daniel      Smith     1         NY   18            90.0   \n",
       "2        Ben  Leibstrom     1         NY   19            80.0   \n",
       "3     Kavita    Kanabar     1         PA   19             NaN   \n",
       "4      Linda      Thiel     4         CA   22            60.0   \n",
       "5       Omar    Reichel     2         OK   21            70.0   \n",
       "6       Jane    OConner     2         HI   19             NaN   \n",
       "7    Felicia        Rao     3         NY   20             NaN   \n",
       "8     Rachel      Crock     1         FL   17             NaN   \n",
       "9        Bob   McDonald     1         FL   18            98.0   \n",
       "\n",
       "   ENGLISH_101_FINAL  \n",
       "1               80.0  \n",
       "2                NaN  \n",
       "3                NaN  \n",
       "4               40.0  \n",
       "5               50.0  \n",
       "6                NaN  \n",
       "7                NaN  \n",
       "8               60.0  \n",
       "9               65.0  "
      ]
     },
     "execution_count": 14,
     "metadata": {},
     "output_type": "execute_result"
    }
   ],
   "source": [
    "df_students.rename(columns={'ENGLISH_101_FINAL_SCORE'\n",
    "                              :'ENGLISH_101_FINAL'})"
   ]
  },
  {
   "cell_type": "code",
   "execution_count": 15,
   "metadata": {},
   "outputs": [
    {
     "data": {
      "text/html": [
       "<div>\n",
       "<style scoped>\n",
       "    .dataframe tbody tr th:only-of-type {\n",
       "        vertical-align: middle;\n",
       "    }\n",
       "\n",
       "    .dataframe tbody tr th {\n",
       "        vertical-align: top;\n",
       "    }\n",
       "\n",
       "    .dataframe thead th {\n",
       "        text-align: right;\n",
       "    }\n",
       "</style>\n",
       "<table border=\"1\" class=\"dataframe\">\n",
       "  <thead>\n",
       "    <tr style=\"text-align: right;\">\n",
       "      <th></th>\n",
       "      <th>FIRST_NAME</th>\n",
       "      <th>LAST_NAME</th>\n",
       "      <th>YEAR</th>\n",
       "      <th>HOME_STATE</th>\n",
       "      <th>AGE</th>\n",
       "      <th>CALC_101_FINAL</th>\n",
       "      <th>ENGLISH_101_FINAL_SCORE</th>\n",
       "    </tr>\n",
       "  </thead>\n",
       "  <tbody>\n",
       "    <tr>\n",
       "      <th>1</th>\n",
       "      <td>Daniel</td>\n",
       "      <td>Smith</td>\n",
       "      <td>1</td>\n",
       "      <td>NY</td>\n",
       "      <td>18</td>\n",
       "      <td>90.0</td>\n",
       "      <td>80.0</td>\n",
       "    </tr>\n",
       "    <tr>\n",
       "      <th>2</th>\n",
       "      <td>Ben</td>\n",
       "      <td>Leibstrom</td>\n",
       "      <td>1</td>\n",
       "      <td>NY</td>\n",
       "      <td>19</td>\n",
       "      <td>80.0</td>\n",
       "      <td>NaN</td>\n",
       "    </tr>\n",
       "    <tr>\n",
       "      <th>3</th>\n",
       "      <td>Kavita</td>\n",
       "      <td>Kanabar</td>\n",
       "      <td>1</td>\n",
       "      <td>PA</td>\n",
       "      <td>19</td>\n",
       "      <td>NaN</td>\n",
       "      <td>NaN</td>\n",
       "    </tr>\n",
       "    <tr>\n",
       "      <th>4</th>\n",
       "      <td>Linda</td>\n",
       "      <td>Thiel</td>\n",
       "      <td>4</td>\n",
       "      <td>CA</td>\n",
       "      <td>22</td>\n",
       "      <td>60.0</td>\n",
       "      <td>40.0</td>\n",
       "    </tr>\n",
       "    <tr>\n",
       "      <th>5</th>\n",
       "      <td>Omar</td>\n",
       "      <td>Reichel</td>\n",
       "      <td>2</td>\n",
       "      <td>OK</td>\n",
       "      <td>21</td>\n",
       "      <td>70.0</td>\n",
       "      <td>50.0</td>\n",
       "    </tr>\n",
       "    <tr>\n",
       "      <th>6</th>\n",
       "      <td>Jane</td>\n",
       "      <td>OConner</td>\n",
       "      <td>2</td>\n",
       "      <td>HI</td>\n",
       "      <td>19</td>\n",
       "      <td>NaN</td>\n",
       "      <td>NaN</td>\n",
       "    </tr>\n",
       "    <tr>\n",
       "      <th>7</th>\n",
       "      <td>Felicia</td>\n",
       "      <td>Rao</td>\n",
       "      <td>3</td>\n",
       "      <td>NY</td>\n",
       "      <td>20</td>\n",
       "      <td>NaN</td>\n",
       "      <td>NaN</td>\n",
       "    </tr>\n",
       "    <tr>\n",
       "      <th>8</th>\n",
       "      <td>Rachel</td>\n",
       "      <td>Crock</td>\n",
       "      <td>1</td>\n",
       "      <td>FL</td>\n",
       "      <td>17</td>\n",
       "      <td>NaN</td>\n",
       "      <td>60.0</td>\n",
       "    </tr>\n",
       "    <tr>\n",
       "      <th>9</th>\n",
       "      <td>Bob</td>\n",
       "      <td>McDonald</td>\n",
       "      <td>1</td>\n",
       "      <td>FL</td>\n",
       "      <td>18</td>\n",
       "      <td>98.0</td>\n",
       "      <td>65.0</td>\n",
       "    </tr>\n",
       "  </tbody>\n",
       "</table>\n",
       "</div>"
      ],
      "text/plain": [
       "  FIRST_NAME  LAST_NAME  YEAR HOME_STATE  AGE  CALC_101_FINAL  \\\n",
       "1     Daniel      Smith     1         NY   18            90.0   \n",
       "2        Ben  Leibstrom     1         NY   19            80.0   \n",
       "3     Kavita    Kanabar     1         PA   19             NaN   \n",
       "4      Linda      Thiel     4         CA   22            60.0   \n",
       "5       Omar    Reichel     2         OK   21            70.0   \n",
       "6       Jane    OConner     2         HI   19             NaN   \n",
       "7    Felicia        Rao     3         NY   20             NaN   \n",
       "8     Rachel      Crock     1         FL   17             NaN   \n",
       "9        Bob   McDonald     1         FL   18            98.0   \n",
       "\n",
       "   ENGLISH_101_FINAL_SCORE  \n",
       "1                     80.0  \n",
       "2                      NaN  \n",
       "3                      NaN  \n",
       "4                     40.0  \n",
       "5                     50.0  \n",
       "6                      NaN  \n",
       "7                      NaN  \n",
       "8                     60.0  \n",
       "9                     65.0  "
      ]
     },
     "execution_count": 15,
     "metadata": {},
     "output_type": "execute_result"
    }
   ],
   "source": [
    "df_students"
   ]
  },
  {
   "cell_type": "code",
   "execution_count": 16,
   "metadata": {},
   "outputs": [
    {
     "data": {
      "text/plain": [
       "'DANIEL'"
      ]
     },
     "execution_count": 16,
     "metadata": {},
     "output_type": "execute_result"
    }
   ],
   "source": [
    "name = 'Daniel'\n",
    "name.upper()"
   ]
  },
  {
   "cell_type": "code",
   "execution_count": 17,
   "metadata": {},
   "outputs": [
    {
     "data": {
      "text/plain": [
       "'Daniel'"
      ]
     },
     "execution_count": 17,
     "metadata": {},
     "output_type": "execute_result"
    }
   ],
   "source": [
    "name"
   ]
  },
  {
   "cell_type": "code",
   "execution_count": 18,
   "metadata": {},
   "outputs": [],
   "source": [
    "df_students = (\n",
    "    df_students.rename(columns={'ENGLISH_101_FINAL_SCORE'\n",
    "                                :'ENGLISH_101_FINAL'}) )"
   ]
  },
  {
   "cell_type": "code",
   "execution_count": 19,
   "metadata": {},
   "outputs": [],
   "source": [
    "df_students = df_students.reset_index(drop=True)"
   ]
  },
  {
   "cell_type": "markdown",
   "metadata": {},
   "source": [
    "### Section 5.5.4"
   ]
  },
  {
   "cell_type": "code",
   "execution_count": 20,
   "metadata": {},
   "outputs": [
    {
     "data": {
      "text/html": [
       "<div>\n",
       "<style scoped>\n",
       "    .dataframe tbody tr th:only-of-type {\n",
       "        vertical-align: middle;\n",
       "    }\n",
       "\n",
       "    .dataframe tbody tr th {\n",
       "        vertical-align: top;\n",
       "    }\n",
       "\n",
       "    .dataframe thead th {\n",
       "        text-align: right;\n",
       "    }\n",
       "</style>\n",
       "<table border=\"1\" class=\"dataframe\">\n",
       "  <thead>\n",
       "    <tr style=\"text-align: right;\">\n",
       "      <th></th>\n",
       "      <th>FIRST_NAME</th>\n",
       "      <th>LAST_NAME</th>\n",
       "      <th>YEAR</th>\n",
       "      <th>HOME_STATE</th>\n",
       "      <th>AGE</th>\n",
       "      <th>CALC_101_FINAL</th>\n",
       "      <th>ENGLISH_101_FINAL</th>\n",
       "    </tr>\n",
       "  </thead>\n",
       "  <tbody>\n",
       "    <tr>\n",
       "      <th>0</th>\n",
       "      <td>Daniel</td>\n",
       "      <td>Smith</td>\n",
       "      <td>1</td>\n",
       "      <td>NY</td>\n",
       "      <td>18</td>\n",
       "      <td>90.0</td>\n",
       "      <td>80.0</td>\n",
       "    </tr>\n",
       "    <tr>\n",
       "      <th>1</th>\n",
       "      <td>Ben</td>\n",
       "      <td>Leibstrom</td>\n",
       "      <td>1</td>\n",
       "      <td>NY</td>\n",
       "      <td>19</td>\n",
       "      <td>80.0</td>\n",
       "      <td>NaN</td>\n",
       "    </tr>\n",
       "    <tr>\n",
       "      <th>2</th>\n",
       "      <td>Kavita</td>\n",
       "      <td>Kanabar</td>\n",
       "      <td>1</td>\n",
       "      <td>PA</td>\n",
       "      <td>19</td>\n",
       "      <td>NaN</td>\n",
       "      <td>NaN</td>\n",
       "    </tr>\n",
       "    <tr>\n",
       "      <th>3</th>\n",
       "      <td>Linda</td>\n",
       "      <td>Thiel</td>\n",
       "      <td>4</td>\n",
       "      <td>CA</td>\n",
       "      <td>22</td>\n",
       "      <td>60.0</td>\n",
       "      <td>40.0</td>\n",
       "    </tr>\n",
       "    <tr>\n",
       "      <th>4</th>\n",
       "      <td>Omar</td>\n",
       "      <td>Reichel</td>\n",
       "      <td>2</td>\n",
       "      <td>OK</td>\n",
       "      <td>21</td>\n",
       "      <td>70.0</td>\n",
       "      <td>50.0</td>\n",
       "    </tr>\n",
       "  </tbody>\n",
       "</table>\n",
       "</div>"
      ],
      "text/plain": [
       "  FIRST_NAME  LAST_NAME  YEAR HOME_STATE  AGE  CALC_101_FINAL  \\\n",
       "0     Daniel      Smith     1         NY   18            90.0   \n",
       "1        Ben  Leibstrom     1         NY   19            80.0   \n",
       "2     Kavita    Kanabar     1         PA   19             NaN   \n",
       "3      Linda      Thiel     4         CA   22            60.0   \n",
       "4       Omar    Reichel     2         OK   21            70.0   \n",
       "\n",
       "   ENGLISH_101_FINAL  \n",
       "0               80.0  \n",
       "1                NaN  \n",
       "2                NaN  \n",
       "3               40.0  \n",
       "4               50.0  "
      ]
     },
     "execution_count": 20,
     "metadata": {},
     "output_type": "execute_result"
    }
   ],
   "source": [
    "df_students.head()"
   ]
  },
  {
   "cell_type": "code",
   "execution_count": 21,
   "metadata": {},
   "outputs": [
    {
     "data": {
      "text/plain": [
       "(9, 7)"
      ]
     },
     "execution_count": 21,
     "metadata": {},
     "output_type": "execute_result"
    }
   ],
   "source": [
    "df_students.shape"
   ]
  },
  {
   "cell_type": "code",
   "execution_count": 22,
   "metadata": {},
   "outputs": [
    {
     "ename": "TypeError",
     "evalue": "'Series' object is not callable",
     "output_type": "error",
     "traceback": [
      "\u001b[0;31m---------------------------------------------------------------------------\u001b[0m",
      "\u001b[0;31mTypeError\u001b[0m                                 Traceback (most recent call last)",
      "Cell \u001b[0;32mIn[22], line 1\u001b[0m\n\u001b[0;32m----> 1\u001b[0m \u001b[43mdf_students\u001b[49m\u001b[38;5;241;43m.\u001b[39;49m\u001b[43mFIRST_NAME\u001b[49m\u001b[43m(\u001b[49m\u001b[43m)\u001b[49m\n",
      "\u001b[0;31mTypeError\u001b[0m: 'Series' object is not callable"
     ]
    }
   ],
   "source": [
    "df_students.FIRST_NAME()"
   ]
  },
  {
   "cell_type": "code",
   "execution_count": null,
   "metadata": {},
   "outputs": [],
   "source": [
    "df_students.shape()"
   ]
  },
  {
   "cell_type": "code",
   "execution_count": null,
   "metadata": {},
   "outputs": [],
   "source": [
    "df_students.reset_index"
   ]
  },
  {
   "cell_type": "code",
   "execution_count": null,
   "metadata": {},
   "outputs": [],
   "source": [
    "df_students.reset_index().FIRST_NAME"
   ]
  },
  {
   "cell_type": "code",
   "execution_count": null,
   "metadata": {},
   "outputs": [],
   "source": [
    "df_students.reset_index.FIRST_NAME"
   ]
  },
  {
   "cell_type": "markdown",
   "metadata": {},
   "source": [
    "### Section 5.5.5"
   ]
  },
  {
   "cell_type": "code",
   "execution_count": null,
   "metadata": {},
   "outputs": [],
   "source": [
    "df_surfboard = 1"
   ]
  },
  {
   "cell_type": "code",
   "execution_count": null,
   "metadata": {},
   "outputs": [],
   "source": [
    "def add_numbers(a, b):\n",
    "    return a+b"
   ]
  },
  {
   "cell_type": "code",
   "execution_count": null,
   "metadata": {},
   "outputs": [],
   "source": [
    "def add_numbers(a, b):\n",
    "    '''\n",
    "    This function takes two numbers, a and b, and returns\n",
    "    the sum\n",
    "    '''\n",
    "    return a+b"
   ]
  },
  {
   "cell_type": "code",
   "execution_count": null,
   "metadata": {},
   "outputs": [],
   "source": [
    "add_numbers"
   ]
  },
  {
   "cell_type": "markdown",
   "metadata": {},
   "source": [
    "## Section 5.6"
   ]
  },
  {
   "cell_type": "markdown",
   "metadata": {},
   "source": [
    "### Section 5.6.1"
   ]
  },
  {
   "cell_type": "code",
   "execution_count": null,
   "metadata": {},
   "outputs": [],
   "source": [
    "df_students = pd.read_excel('raw data/Students.xlsx')"
   ]
  },
  {
   "cell_type": "code",
   "execution_count": null,
   "metadata": {},
   "outputs": [],
   "source": [
    "df_summarized_orders = pd.read_csv(\n",
    "    'raw data/Summarized orders.csv')\n",
    "df_summarized_orders.head()"
   ]
  },
  {
   "cell_type": "code",
   "execution_count": null,
   "metadata": {},
   "outputs": [],
   "source": [
    "df_summarized_orders.columns = ['RESTAURANT_NAME',\n",
    "                                 'DATE', 'NUM_ORDERS',\n",
    "                                          'PERC_DELIVERY']"
   ]
  },
  {
   "cell_type": "code",
   "execution_count": null,
   "metadata": {},
   "outputs": [],
   "source": [
    "df_items = pd.read_csv('raw data/items.csv')\n",
    "df_restaurants = pd.read_csv('raw data/restaurants.csv')"
   ]
  },
  {
   "cell_type": "code",
   "execution_count": null,
   "metadata": {},
   "outputs": [],
   "source": [
    "df_orders = pd.read_csv('raw data/Simplified orders.zip')\n",
    "df_orders.shape"
   ]
  },
  {
   "cell_type": "markdown",
   "metadata": {},
   "source": [
    "### Section 5.6.2"
   ]
  },
  {
   "cell_type": "code",
   "execution_count": null,
   "metadata": {},
   "outputs": [],
   "source": [
    "df_summarized_orders.to_csv('Chapter 5/Summarized orders new.csv')"
   ]
  },
  {
   "cell_type": "code",
   "execution_count": null,
   "metadata": {},
   "outputs": [],
   "source": [
    "df_summarized_orders.to_csv('Chapter 5/Summarized orders new.csv',\n",
    "                                               index=False)"
   ]
  },
  {
   "cell_type": "code",
   "execution_count": null,
   "metadata": {},
   "outputs": [],
   "source": [
    "df_students.to_pickle('Chapter 5/df_students.pickle')"
   ]
  },
  {
   "cell_type": "code",
   "execution_count": null,
   "metadata": {},
   "outputs": [],
   "source": [
    "pd.read_pickle('Chapter 5/df_students.pickle')"
   ]
  },
  {
   "cell_type": "markdown",
   "metadata": {},
   "source": [
    "## Section 5.7"
   ]
  },
  {
   "cell_type": "code",
   "execution_count": null,
   "metadata": {
    "scrolled": true
   },
   "outputs": [],
   "source": [
    "df_orders.info()"
   ]
  },
  {
   "cell_type": "code",
   "execution_count": null,
   "metadata": {},
   "outputs": [],
   "source": [
    "df_orders.DATETIME = pd.to_datetime(df_orders.DATETIME)"
   ]
  },
  {
   "cell_type": "code",
   "execution_count": null,
   "metadata": {},
   "outputs": [],
   "source": [
    "df_orders.info()"
   ]
  },
  {
   "cell_type": "code",
   "execution_count": null,
   "metadata": {},
   "outputs": [],
   "source": [
    "df_orders.head()"
   ]
  },
  {
   "cell_type": "code",
   "execution_count": null,
   "metadata": {},
   "outputs": [],
   "source": [
    "df_orders.DATETIME.dt.day_name().head()"
   ]
  },
  {
   "cell_type": "code",
   "execution_count": null,
   "metadata": {},
   "outputs": [],
   "source": [
    "df_summarized_orders.head()"
   ]
  },
  {
   "cell_type": "code",
   "execution_count": null,
   "metadata": {},
   "outputs": [],
   "source": [
    "df_summarized_orders.DATE = ( \n",
    "    pd.to_datetime(df_summarized_orders.DATE) )\n",
    "df_summarized_orders.head()"
   ]
  },
  {
   "cell_type": "markdown",
   "metadata": {},
   "source": [
    "## Section 5.8"
   ]
  },
  {
   "cell_type": "code",
   "execution_count": null,
   "metadata": {},
   "outputs": [],
   "source": [
    "df_students.to_pickle('Chapter 5/students.pickle')\n",
    "df_orders.to_pickle('Chapter 5/orders.pickle')\n",
    "df_summarized_orders.to_pickle( \n",
    "    'Chapter 5/summarized_orders.pickle')\n",
    "df_items.to_pickle('Chapter 5/items.pickle')\n",
    "df_restaurants.to_pickle('Chapter 5/restaurants.pickle')"
   ]
  }
 ],
 "metadata": {
  "kernelspec": {
   "display_name": "Python 3 (ipykernel)",
   "language": "python",
   "name": "python3"
  },
  "language_info": {
   "codemirror_mode": {
    "name": "ipython",
    "version": 3
   },
   "file_extension": ".py",
   "mimetype": "text/x-python",
   "name": "python",
   "nbconvert_exporter": "python",
   "pygments_lexer": "ipython3",
   "version": "3.10.1"
  }
 },
 "nbformat": 4,
 "nbformat_minor": 2
}
